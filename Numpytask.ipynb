{
  "cells": [
    {
      "cell_type": "markdown",
      "metadata": {
        "id": "view-in-github",
        "colab_type": "text"
      },
      "source": [
        "<a href=\"https://colab.research.google.com/github/varnikabaskar/data-science/blob/main/Numpytask.ipynb\" target=\"_parent\"><img src=\"https://colab.research.google.com/assets/colab-badge.svg\" alt=\"Open In Colab\"/></a>"
      ]
    },
    {
      "cell_type": "code",
      "execution_count": 1,
      "metadata": {
        "colab": {
          "base_uri": "https://localhost:8080/"
        },
        "id": "kGva5MeNhrjK",
        "outputId": "1ad1277c-de42-4571-ab8b-72291b3ffc32"
      },
      "outputs": [
        {
          "output_type": "stream",
          "name": "stdout",
          "text": [
            "[1 2 3 4]\n"
          ]
        }
      ],
      "source": [
        "import numpy\n",
        "a=numpy.array([1,2,3,4])\n",
        "print(a)"
      ]
    },
    {
      "cell_type": "code",
      "source": [
        "import numpy as  np"
      ],
      "metadata": {
        "id": "D4a4_AXCcENl"
      },
      "execution_count": 2,
      "outputs": []
    },
    {
      "cell_type": "code",
      "execution_count": 3,
      "metadata": {
        "colab": {
          "base_uri": "https://localhost:8080/"
        },
        "id": "yZdYwt1Id--9",
        "outputId": "6baa36a0-6509-4481-f034-1dec98930a2f"
      },
      "outputs": [
        {
          "output_type": "stream",
          "name": "stdout",
          "text": [
            "dict_items([(1, 'apple'), (2, 'mango')])\n"
          ]
        }
      ],
      "source": [
        "import numpy as np\n",
        "dict={1:\"apple\",2:\"mango\"}\n",
        "a=dict.items()\n",
        "print(a)"
      ]
    },
    {
      "cell_type": "code",
      "execution_count": 4,
      "metadata": {
        "colab": {
          "base_uri": "https://localhost:8080/",
          "height": 448
        },
        "id": "tOoktzE_fdOF",
        "outputId": "4fb9e299-845c-498f-b585-4eefca73b802"
      },
      "outputs": [
        {
          "output_type": "execute_result",
          "data": {
            "text/plain": [
              "[<matplotlib.lines.Line2D at 0x7ef71abb6a40>]"
            ]
          },
          "metadata": {},
          "execution_count": 4
        },
        {
          "output_type": "display_data",
          "data": {
            "text/plain": [
              "<Figure size 640x480 with 1 Axes>"
            ],
            "image/png": "[encoded data removed]"
          },
          "metadata": {}
        }
      ],
      "source": [
        "import matplotlib.pyplot as plt\n",
        "import numpy as np\n",
        "\n",
        "b=np.array([10,3,8,5,9,5])\n",
        "plt.plot(b)"
      ]
    },
    {
      "cell_type": "code",
      "execution_count": 5,
      "metadata": {
        "colab": {
          "base_uri": "https://localhost:8080/"
        },
        "id": "aC57Xdt0-FSE",
        "outputId": "41e356f1-4182-46cc-d442-169ea74bf8d1"
      },
      "outputs": [
        {
          "output_type": "stream",
          "name": "stdout",
          "text": [
            "<IntegerArray>\n",
            "[1, 2, 3, 4]\n",
            "Length: 4, dtype: Int64\n"
          ]
        }
      ],
      "source": [
        "import pandas\n",
        "a=pandas.array([1,2,3,4])\n",
        "print(a)"
      ]
    },
    {
      "cell_type": "code",
      "execution_count": 8,
      "metadata": {
        "colab": {
          "base_uri": "https://localhost:8080/"
        },
        "id": "DInsQhqd-QJU",
        "outputId": "1acd5daa-30ae-424a-b14b-33aa7195102b"
      },
      "outputs": [
        {
          "output_type": "stream",
          "name": "stdout",
          "text": [
            "<StringArray>\n",
            "['apple', 'mango']\n",
            "Length: 2, dtype: string\n"
          ]
        }
      ],
      "source": [
        "import pandas\n",
        "a=pandas.array([\"apple\",\"mango\"])\n",
        "print(a)"
      ]
    },
    {
      "cell_type": "code",
      "source": [
        "import numpy as a\n",
        "b=a.array([1,2,3,4,5])\n",
        "print(a.ravel(b))\n",
        "print(a.transpose(b))\n",
        "print(a.reshape(3,-2))\n",
        "print(a.resize(2,6))\n",
        "print(a.append(b,6))\n",
        "print(a.insert(b,1,5))\n",
        "print(a.delete(b,[1]))"
      ],
      "metadata": {
        "id": "AE3fXsbPeOXc"
      },
      "execution_count": null,
      "outputs": []
    },
    {
      "cell_type": "code",
      "execution_count": null,
      "metadata": {
        "id": "AhGK_4dc-nzP"
      },
      "outputs": [],
      "source": [
        "import numpy as np\n",
        "np.multiply(3,3)"
      ]
    },
    {
      "cell_type": "code",
      "execution_count": 10,
      "metadata": {
        "colab": {
          "base_uri": "https://localhost:8080/"
        },
        "id": "oCjxsp85-zqs",
        "outputId": "04af5db1-a0f2-458c-ddd3-ed97767d8b8c"
      },
      "outputs": [
        {
          "output_type": "execute_result",
          "data": {
            "text/plain": [
              "array([1, 2, 4, 7, 9])"
            ]
          },
          "metadata": {},
          "execution_count": 10
        }
      ],
      "source": [
        "import numpy as np\n",
        "np.sqrt(49)\n",
        "numpy.sort([2,9,4,1,7])"
      ]
    },
    {
      "cell_type": "code",
      "source": [
        "import numpy as np\n",
        "np.linspace(0,2,9)\n"
      ],
      "metadata": {
        "colab": {
          "base_uri": "https://localhost:8080/"
        },
        "id": "egwtN-P_41A8",
        "outputId": "2d9705a2-329b-4529-a9e6-6fd241261b8e"
      },
      "execution_count": 11,
      "outputs": [
        {
          "output_type": "execute_result",
          "data": {
            "text/plain": [
              "array([0.  , 0.25, 0.5 , 0.75, 1.  , 1.25, 1.5 , 1.75, 2.  ])"
            ]
          },
          "metadata": {},
          "execution_count": 11
        }
      ]
    },
    {
      "cell_type": "code",
      "execution_count": null,
      "metadata": {
        "id": "OwZgku_G_YSn"
      },
      "outputs": [],
      "source": [
        "import numpy as np\n",
        "np.pi"
      ]
    },
    {
      "cell_type": "code",
      "execution_count": null,
      "metadata": {
        "id": "2knHSUZRAQ0S"
      },
      "outputs": [],
      "source": [
        "\n",
        "import numpy as np\n",
        "a = np.array([[1, 2, 3, 4], [5, 6, 7, 8], [9, 10, 11, 12]])\n",
        "print(a[2])\n",
        "b= np.array([12, 7, 52, 0, 5, 8, 3, 1])\n",
        "c=np.array([3,6,8,10,12])\n",
        "print(np.sort(b))\n",
        "print(np.concatenate((b, c)))\n",
        "print(b.size )\n",
        "print(a.shape )\n",
        "print(b[b < 10])\n",
        "print(np.flip(c))\n",
        "grid1= np.array([[5, 6], [3, 4],[7, 6], [8, 9]])\n",
        "grid2= np.array([[10, 20], [11, 12],[18, 19], [14, 15]])\n",
        "print(grid1 + grid2)"
      ]
    },
    {
      "cell_type": "code",
      "source": [
        "\n",
        "import numpy as np\n",
        "c=np.array([[[1,2,3],[4,5,6]],[[3,2,1],[4,5,7]]])\n",
        "print(c[1,1])\n",
        "a=np.array([[1,2,3],[4,5,6],[3,2,1],[4,5,7]])\n",
        "print(a[1,1])"
      ],
      "metadata": {
        "id": "TlWn6sGCbzqr"
      },
      "execution_count": null,
      "outputs": []
    },
    {
      "cell_type": "code",
      "source": [
        "\n",
        "import numpy as np\n",
        "b=np.array([1,2,3,4,5,6])\n",
        "print(b[1:5])"
      ],
      "metadata": {
        "id": "UwgxfLc7b8cw"
      },
      "execution_count": null,
      "outputs": []
    },
    {
      "cell_type": "code",
      "source": [
        "\n",
        "# Python program to demonstrate\n",
        "# basic operations on single array\n",
        "import numpy as np\n",
        "\n",
        "# Defining Array 1\n",
        "a = np.array([[1, 2],\n",
        "              [3, 4]])\n",
        "\n",
        "# Defining Array 2\n",
        "b = np.array([[4, 3],\n",
        "              [2, 1]])\n",
        "\n",
        "# Adding 1 to every element\n",
        "print (\"Adding 1 to every element:\", a + 1)\n",
        "\n",
        "# Subtracting 2 from each element\n",
        "print (\"\\nSubtracting 2 from each element:\", b - 2)\n",
        "\n",
        "# sum of array elements\n",
        "# Performing Unary operations\n",
        "print (\"\\nSum of all array \"\n",
        "       \"elements: \", a.sum())\n",
        "\n",
        "# Adding two arrays\n",
        "# Performing Binary operations\n",
        "print (\"\\nArray sum:\\n\", a + b)"
      ],
      "metadata": {
        "id": "8rBweDIxcKy1"
      },
      "execution_count": null,
      "outputs": []
    },
    {
      "cell_type": "code",
      "source": [
        "\n",
        "import numpy as geek\n",
        "in_num1 = 10\n",
        "in_num2 = 11\n",
        "\n",
        "print (\"Input  number1 : \", in_num1)\n",
        "print (\"Input  number2 : \", in_num2)\n",
        "\n",
        "out_num = geek.bitwise_and(in_num1, in_num2)\n",
        "print (\"bitwise_and of 10 and 11 : \", out_num)"
      ],
      "metadata": {
        "id": "E4TM15pRcVtP"
      },
      "execution_count": null,
      "outputs": []
    },
    {
      "cell_type": "code",
      "source": [
        "\n",
        "# Python program explaining\n",
        "# invert() function\n",
        "\n",
        "import numpy as geek\n",
        "in_num = 10\n",
        "print (\"Input  number : \", in_num)\n",
        "\n",
        "out_num = geek.invert(in_num)\n",
        "print (\"inversion of 10 : \", out_num)"
      ],
      "metadata": {
        "id": "LZ-_TpESce-r"
      },
      "execution_count": null,
      "outputs": []
    },
    {
      "cell_type": "code",
      "source": [
        "\n",
        "import numpy as np\n",
        "\n",
        "arr = np.array([1, 2, 3, 4, 5, 6, 7])\n",
        "\n",
        "filter_arr = arr % 2 == 0\n",
        "\n",
        "newarr = arr[filter_arr]\n",
        "\n",
        "print(filter_arr)\n",
        "print(newarr)"
      ],
      "metadata": {
        "id": "U4byabnWcmth"
      },
      "execution_count": null,
      "outputs": []
    },
    {
      "cell_type": "code",
      "source": [
        "\n",
        "import numpy as np\n",
        "\n",
        "arr = np.array([1, 2, 3, 4, 5, 6, 7, 8])\n",
        "\n",
        "x = np.where(arr%2 == 0)\n",
        "\n",
        "print(x)"
      ],
      "metadata": {
        "colab": {
          "base_uri": "https://localhost:8080/"
        },
        "id": "ITlN2UlMcs13",
        "outputId": "92bb9361-d217-4a36-fe65-d63cd9106cad"
      },
      "execution_count": 2,
      "outputs": [
        {
          "output_type": "stream",
          "name": "stdout",
          "text": [
            "(array([1, 3, 5, 7]),)\n"
          ]
        }
      ]
    },
    {
      "cell_type": "code",
      "source": [
        "\n",
        "import numpy as np\n",
        "\n",
        "arr = np.array([1, 2, 3, 4, 5, 6, 7, 8, 9, 10, 11, 12])\n",
        "\n",
        "newarr = arr.reshape(2, 3, 2)\n",
        "\n",
        "print(newarr)"
      ],
      "metadata": {
        "colab": {
          "base_uri": "https://localhost:8080/"
        },
        "id": "PorMSJFtc0kP",
        "outputId": "96d22310-4647-4593-b27f-e24ae4e60a0c"
      },
      "execution_count": 1,
      "outputs": [
        {
          "output_type": "stream",
          "name": "stdout",
          "text": [
            "[[[ 1  2]\n",
            "  [ 3  4]\n",
            "  [ 5  6]]\n",
            "\n",
            " [[ 7  8]\n",
            "  [ 9 10]\n",
            "  [11 12]]]\n"
          ]
        }
      ]
    },
    {
      "cell_type": "code",
      "source": [
        "\n",
        "from numpy import random\n",
        "\n",
        "x = random.choice([3, 5, 7, 9], p=[0.1, 0.3, 0.6, 0.0], size=(100))\n",
        "\n",
        "print(x)"
      ],
      "metadata": {
        "id": "tQYFvKBuc9qo"
      },
      "execution_count": null,
      "outputs": []
    },
    {
      "cell_type": "code",
      "source": [
        "\n",
        "from numpy import random\n",
        "import numpy as np\n",
        "\n",
        "arr = np.array([1, 2, 3, 4, 5])\n",
        "\n",
        "random.shuffle(arr)\n",
        "\n",
        "print(arr)"
      ],
      "metadata": {
        "id": "tc94Kq9EdB0q"
      },
      "execution_count": null,
      "outputs": []
    },
    {
      "cell_type": "code",
      "source": [
        "\n",
        "import matplotlib.pyplot as plt\n",
        "import seaborn as sns\n",
        "\n",
        "sns.distplot([0, 1, 2, 3, 4, 5])\n",
        "\n",
        "plt.show()"
      ],
      "metadata": {
        "id": "8mdSJdBKdGYa"
      },
      "execution_count": null,
      "outputs": []
    },
    {
      "cell_type": "code",
      "source": [
        "\n",
        "from numpy import random\n",
        "\n",
        "x = random.normal(loc=1, scale=2, size=(2, 3))\n",
        "\n",
        "print(x)"
      ],
      "metadata": {
        "id": "mYK59cOcdMuF"
      },
      "execution_count": null,
      "outputs": []
    },
    {
      "cell_type": "code",
      "source": [
        "\n",
        "from numpy import random\n",
        "\n",
        "x = random.binomial(n=10, p=0.5, size=10)\n",
        "\n",
        "print(x)"
      ],
      "metadata": {
        "id": "kFcZQOAMdTVc"
      },
      "execution_count": null,
      "outputs": []
    },
    {
      "cell_type": "code",
      "source": [
        "\n",
        "from numpy import random\n",
        "\n",
        "x = random.poisson(lam=2, size=10)\n",
        "\n",
        "print(x)"
      ],
      "metadata": {
        "id": "TBdBqL2RdYUg"
      },
      "execution_count": null,
      "outputs": []
    },
    {
      "cell_type": "code",
      "source": [
        "\n",
        "from numpy import random\n",
        "\n",
        "x = random.chisquare(df=2, size=(2, 3))\n",
        "\n",
        "print(x)"
      ],
      "metadata": {
        "id": "1VzrMDRadce9"
      },
      "execution_count": null,
      "outputs": []
    },
    {
      "cell_type": "code",
      "source": [
        "\n",
        "c=np.array([[1,2,3],[4,5,6],[3,2,1],[4,5,7]])\n",
        "print(c.shape)    #Returns the dimensions of the array\n",
        "print(c.ndim)      #Returns the number of dimensions\n",
        "print(c.size)      #Returns the total number of elements\n",
        "print(c.dtype)      #Returns the data type\n",
        "print(\"----------------\")\n",
        "c=np.array([[[1,2,3],[4,5,6]],[[3,2,1],[4,5,7]]])\n",
        "print(c.shape)\n",
        "print(c.ndim)\n",
        "print(c.size)\n",
        "print(c.dtype)"
      ],
      "metadata": {
        "id": "emuZE_BPdohX"
      },
      "execution_count": null,
      "outputs": []
    },
    {
      "cell_type": "code",
      "source": [
        "\n",
        "r = np.array([1, 2,3, 3, 4, 5, 6, 7, 8, 9, 10, 11, 12])\n",
        "print(np.sum(r))\n",
        "print(np.mean(r))\n",
        "print(np.median(r))\n",
        "print(np.std(r))\n",
        "print(np.min(r))\n",
        "print(np.max(r))"
      ],
      "metadata": {
        "id": "q2Mio3h3TsL4"
      },
      "execution_count": null,
      "outputs": []
    },
    {
      "cell_type": "code",
      "source": [
        "\n",
        "r = np.array([1, 2, 3, 11, 12])\n",
        "print(np.sin(r))\n",
        "print(np.cos(r))\n",
        "print(np.tan(r))\n",
        "print(np.arcsin(r))\n",
        "print(np.arccos(r))\n",
        "print(np.arctan(r))"
      ],
      "metadata": {
        "id": "wQ-9Cm2vT_wV"
      },
      "execution_count": null,
      "outputs": []
    },
    {
      "cell_type": "code",
      "source": [
        "\n",
        "arr1 = np.array([True, False, True])\n",
        "arr2 = np.array([False, True, True])\n",
        "\n",
        "# Perform element-wise logical AND\n",
        "result = np.logical_and(arr1, arr2)\n",
        "result1 = np.logical_or(arr1, arr2)\n",
        "result2 = np.logical_not(arr1, arr2)\n",
        "print(result)\n",
        "print(result1)\n",
        "print(result2)"
      ],
      "metadata": {
        "id": "UBmmBzHgUHgt"
      },
      "execution_count": null,
      "outputs": []
    },
    {
      "cell_type": "code",
      "source": [
        "\n",
        "A = np.array([[4, 7],\n",
        "              [2, 6]])\n",
        "\n",
        "# Compute the determinant of the matrix\n",
        "det_A = np.linalg.det(A)\n",
        "\n",
        "print(\"Matrix:\")\n",
        "print(A)\n",
        "\n",
        "print(\"\\nDeterminant:\", det_A)"
      ],
      "metadata": {
        "id": "n2lU7WQ1URZo"
      },
      "execution_count": null,
      "outputs": []
    },
    {
      "cell_type": "code",
      "source": [
        "\n",
        "A = np.array([[4, -2],\n",
        "              [1,  1]])\n",
        "\n",
        "# Compute the eigenvalues and eigenvectors\n",
        "eigenvalues, eigenvectors = np.linalg.eig(A)\n",
        "\n",
        "print(\"Matrix:\")\n",
        "print(A)\n",
        "\n",
        "print(\"\\nEigenvalues:\")\n",
        "print(eigenvalues)\n",
        "\n",
        "print(\"\\nEigenvectors:\")\n",
        "print(eigenvectors)"
      ],
      "metadata": {
        "id": "VXoBa7mnUy8j"
      },
      "execution_count": null,
      "outputs": []
    },
    {
      "cell_type": "code",
      "source": [
        "\n",
        "A = np.array([[2, 1],\n",
        "              [7, 4]])\n",
        "\n",
        "# Compute the inverse of the matrix\n",
        "A_inv = np.linalg.inv(A)\n",
        "\n",
        "print(\"Original matrix:\")\n",
        "print(A)\n",
        "\n",
        "print(\"\\nInverse matrix:\")\n",
        "print(A_inv)\n",
        "\n",
        "# Verify the inverse property: A.dot(A_inv) should be the identity matrix\n",
        "identity_matrix = A.dot(A_inv)\n",
        "print(\"\\nProduct of A and A_inv (should be the identity matrix):\")\n",
        "print(identity_matrix)"
      ],
      "metadata": {
        "id": "nmUJ4csJVBYS"
      },
      "execution_count": null,
      "outputs": []
    },
    {
      "cell_type": "code",
      "source": [
        "\n",
        "# Percentiles are a measure used in statistics to indicate the relative standing of a particular value within a dataset.\n",
        "\n",
        "data = np.array([1, 2, 3, 4, 5, 6, 7, 8, 9, 10])\n",
        "\n",
        "# Compute the 25th and 75th percentiles\n",
        "percentile_25 = np.percentile(data, 25)\n",
        "percentile_75 = np.percentile(data, 75)\n",
        "\n",
        "print(\"25th percentile:\", percentile_25)\n",
        "print(\"75th percentile:\", percentile_75)\n",
        "\n",
        "#This means that 25% of the values in the dataset are less than or equal to 3.25, and 75% of the values are less than or equal to 7.75."
      ],
      "metadata": {
        "colab": {
          "base_uri": "https://localhost:8080/"
        },
        "id": "2eM17CpLVPC1",
        "outputId": "fa5796a4-936e-4976-a500-3552643369a8"
      },
      "execution_count": 13,
      "outputs": [
        {
          "output_type": "stream",
          "name": "stdout",
          "text": [
            "25th percentile: 3.25\n",
            "75th percentile: 7.75\n"
          ]
        }
      ]
    },
    {
      "cell_type": "code",
      "source": [
        "\n",
        "c=np.array([2,4,6,11])\n",
        "d=np.array([1,5,3,70])\n",
        "print(np.add(c,d))\n",
        " #element-wise addition\n",
        "print(np.subtract(c,d))\n",
        "#element-wise subtraction\n",
        "print(np.multiply(c,d))\n",
        "#element-wise multiplication\n",
        "print(np.divide(c,d))\n",
        "#Dot product of 2 arrays\n",
        "print(np.dot(c,d))"
      ],
      "metadata": {
        "id": "LP96QfukVjy1",
        "colab": {
          "base_uri": "https://localhost:8080/"
        },
        "outputId": "1c2442df-285e-40f0-d7ad-e84bc3d1c953"
      },
      "execution_count": 12,
      "outputs": [
        {
          "output_type": "stream",
          "name": "stdout",
          "text": [
            "[ 3  9  9 81]\n",
            "[  1  -1   3 -59]\n",
            "[  2  20  18 770]\n",
            "[2.         0.8        2.         0.15714286]\n",
            "810\n"
          ]
        }
      ]
    }
  ],
  "metadata": {
    "colab": {
      "provenance": [],
      "include_colab_link": true
    },
    "kernelspec": {
      "display_name": "Python 3",
      "name": "python3"
    },
    "language_info": {
      "name": "python"
    }
  },
  "nbformat": 4,
  "nbformat_minor": 0
}